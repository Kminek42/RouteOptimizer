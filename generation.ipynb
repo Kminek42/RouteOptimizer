{
 "cells": [
  {
   "cell_type": "code",
   "execution_count": 45,
   "metadata": {},
   "outputs": [],
   "source": [
    "import numpy as np\n",
    "import pandas as pd\n",
    "import matplotlib.pyplot as plt"
   ]
  },
  {
   "cell_type": "code",
   "execution_count": 46,
   "metadata": {},
   "outputs": [],
   "source": [
    "names = pd.read_csv('city_names.txt').values[:, 0]"
   ]
  },
  {
   "cell_type": "code",
   "execution_count": 47,
   "metadata": {},
   "outputs": [
    {
     "data": {
      "text/plain": [
       "array(['Marchhaus', 'Molenstal', 'Mousrijk', 'Paluire', 'Houignane',\n",
       "       'Hallensten', 'Erdorf', 'Clonbriggan', 'Wickbridge', 'Winschoten',\n",
       "       'Slostein', 'Einwil', 'Langenstätten', 'Brautrenk', 'Waidstein',\n",
       "       'Naameinde', 'Sherpschot', 'Borciennes', 'Drabagne', 'Altenbruck',\n",
       "       'Geisellohn', 'Ballyrick', 'Ballylarney', 'Windneuzen', 'Asoord',\n",
       "       'Berodon', 'Romainbourg', 'Amhaus', 'Lenzing', 'Knokheuvel',\n",
       "       'Mousport', 'Sarnau', 'Camroux', 'Gailwig', 'Creuzbrück',\n",
       "       'Nadoran', 'Monastone', 'Kesrade', 'Nieuwerode', 'Langenkirch',\n",
       "       'Asges', 'Anszis', 'Götben', 'Kortcroen', 'Forlare', 'Dilogne',\n",
       "       'Colnoît', 'Schwarzenhofen', 'Zierenfeld', 'Banlee', 'Limerush',\n",
       "       'Zaltloopen', 'Ravenlen', 'Fritern', 'Liesschwil', 'Lenling',\n",
       "       'Knittelkirch', 'Lomvoorde', 'Wevelleeuw', 'Montauciennes',\n",
       "       'Valenvin', 'Altenscheid', 'Ahrensroda', 'Greylone', 'Droglone',\n",
       "       'Winterzijl', 'Laagechem', 'Liessee', 'Münnau'], dtype=object)"
      ]
     },
     "execution_count": 47,
     "metadata": {},
     "output_type": "execute_result"
    }
   ],
   "source": [
    "names"
   ]
  },
  {
   "cell_type": "code",
   "execution_count": 52,
   "metadata": {},
   "outputs": [
    {
     "data": {
      "image/png": "[encoded data removed]",
      "text/plain": [
       "<Figure size 640x480 with 1 Axes>"
      ]
     },
     "metadata": {},
     "output_type": "display_data"
    }
   ],
   "source": [
    "radius = 100\n",
    "X = radius * np.random.rand(len(names))\n",
    "Y = radius * np.random.rand(len(names))\n",
    "df = pd.DataFrame({   \n",
    "        'CityName' : names,\n",
    "        'X': X,\n",
    "        'Y': Y\n",
    "    }\n",
    ")\n",
    "\n",
    "plt.plot(X, Y, '.')\n",
    "plt.show()"
   ]
  },
  {
   "cell_type": "code",
   "execution_count": 53,
   "metadata": {},
   "outputs": [],
   "source": [
    "df.to_csv('cities.csv', index=False)"
   ]
  }
 ],
 "metadata": {
  "kernelspec": {
   "display_name": "Python 3",
   "language": "python",
   "name": "python3"
  },
  "language_info": {
   "codemirror_mode": {
    "name": "ipython",
    "version": 3
   },
   "file_extension": ".py",
   "mimetype": "text/x-python",
   "name": "python",
   "nbconvert_exporter": "python",
   "pygments_lexer": "ipython3",
   "version": "3.12.2"
  }
 },
 "nbformat": 4,
 "nbformat_minor": 2
}
